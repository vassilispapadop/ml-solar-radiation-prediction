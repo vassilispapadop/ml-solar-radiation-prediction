{
 "metadata": {
  "language_info": {
   "codemirror_mode": {
    "name": "ipython",
    "version": 3
   },
   "file_extension": ".py",
   "mimetype": "text/x-python",
   "name": "python",
   "nbconvert_exporter": "python",
   "pygments_lexer": "ipython3",
   "version": "3.9.1-final"
  },
  "orig_nbformat": 2,
  "kernelspec": {
   "name": "python3",
   "display_name": "Python 3",
   "language": "python"
  }
 },
 "nbformat": 4,
 "nbformat_minor": 2,
 "cells": [
  {
   "source": [
    "# Solar radiation prediction\n",
    "This notebook presents data analysis on a four-month dataset collected at the HI-SEAS weather station (Hawaii). The sampling rate is around 5 minutes. The objective is to derive a machine learning (ML) model to forecast solar radiation as a function of the available features.\n",
    "## Dataset\n",
    "The dataset consists of \n",
    "* Solar radiation [W/m^2]\n",
    "* Temperature [F]\n",
    "* Atmospheric pressure [Hg]\n",
    "* Humidity [%]\n",
    "* Wind speed [miles/h]\n",
    "* Wind direction [degrees]\n",
    "\n"
   ],
   "cell_type": "markdown",
   "metadata": {}
  },
  {
   "cell_type": "code",
   "execution_count": 3,
   "metadata": {},
   "outputs": [],
   "source": [
    "import numpy as np\n",
    "import pandas as pd\n",
    "import matplotlib.pyplot as plt\n",
    "from sklearn.model_selection import TimeSeriesSplit\n"
   ]
  },
  {
   "cell_type": "code",
   "execution_count": 2,
   "metadata": {},
   "outputs": [
    {
     "output_type": "execute_result",
     "data": {
      "text/plain": [
       "     UNIXTime                   Data      Time  Radiation  Temperature  \\\n",
       "0  1475229326  9/29/2016 12:00:00 AM  23:55:26       1.21           48   \n",
       "1  1475229023  9/29/2016 12:00:00 AM  23:50:23       1.21           48   \n",
       "2  1475228726  9/29/2016 12:00:00 AM  23:45:26       1.23           48   \n",
       "3  1475228421  9/29/2016 12:00:00 AM  23:40:21       1.21           48   \n",
       "4  1475228124  9/29/2016 12:00:00 AM  23:35:24       1.17           48   \n",
       "\n",
       "   Pressure  Humidity  WindDirection(Degrees)  Speed TimeSunRise TimeSunSet  \n",
       "0     30.46        59                  177.39   5.62    06:13:00   18:13:00  \n",
       "1     30.46        58                  176.78   3.37    06:13:00   18:13:00  \n",
       "2     30.46        57                  158.75   3.37    06:13:00   18:13:00  \n",
       "3     30.46        60                  137.71   3.37    06:13:00   18:13:00  \n",
       "4     30.46        62                  104.95   5.62    06:13:00   18:13:00  "
      ],
      "text/html": "<div>\n<style scoped>\n    .dataframe tbody tr th:only-of-type {\n        vertical-align: middle;\n    }\n\n    .dataframe tbody tr th {\n        vertical-align: top;\n    }\n\n    .dataframe thead th {\n        text-align: right;\n    }\n</style>\n<table border=\"1\" class=\"dataframe\">\n  <thead>\n    <tr style=\"text-align: right;\">\n      <th></th>\n      <th>UNIXTime</th>\n      <th>Data</th>\n      <th>Time</th>\n      <th>Radiation</th>\n      <th>Temperature</th>\n      <th>Pressure</th>\n      <th>Humidity</th>\n      <th>WindDirection(Degrees)</th>\n      <th>Speed</th>\n      <th>TimeSunRise</th>\n      <th>TimeSunSet</th>\n    </tr>\n  </thead>\n  <tbody>\n    <tr>\n      <th>0</th>\n      <td>1475229326</td>\n      <td>9/29/2016 12:00:00 AM</td>\n      <td>23:55:26</td>\n      <td>1.21</td>\n      <td>48</td>\n      <td>30.46</td>\n      <td>59</td>\n      <td>177.39</td>\n      <td>5.62</td>\n      <td>06:13:00</td>\n      <td>18:13:00</td>\n    </tr>\n    <tr>\n      <th>1</th>\n      <td>1475229023</td>\n      <td>9/29/2016 12:00:00 AM</td>\n      <td>23:50:23</td>\n      <td>1.21</td>\n      <td>48</td>\n      <td>30.46</td>\n      <td>58</td>\n      <td>176.78</td>\n      <td>3.37</td>\n      <td>06:13:00</td>\n      <td>18:13:00</td>\n    </tr>\n    <tr>\n      <th>2</th>\n      <td>1475228726</td>\n      <td>9/29/2016 12:00:00 AM</td>\n      <td>23:45:26</td>\n      <td>1.23</td>\n      <td>48</td>\n      <td>30.46</td>\n      <td>57</td>\n      <td>158.75</td>\n      <td>3.37</td>\n      <td>06:13:00</td>\n      <td>18:13:00</td>\n    </tr>\n    <tr>\n      <th>3</th>\n      <td>1475228421</td>\n      <td>9/29/2016 12:00:00 AM</td>\n      <td>23:40:21</td>\n      <td>1.21</td>\n      <td>48</td>\n      <td>30.46</td>\n      <td>60</td>\n      <td>137.71</td>\n      <td>3.37</td>\n      <td>06:13:00</td>\n      <td>18:13:00</td>\n    </tr>\n    <tr>\n      <th>4</th>\n      <td>1475228124</td>\n      <td>9/29/2016 12:00:00 AM</td>\n      <td>23:35:24</td>\n      <td>1.17</td>\n      <td>48</td>\n      <td>30.46</td>\n      <td>62</td>\n      <td>104.95</td>\n      <td>5.62</td>\n      <td>06:13:00</td>\n      <td>18:13:00</td>\n    </tr>\n  </tbody>\n</table>\n</div>"
     },
     "metadata": {},
     "execution_count": 2
    }
   ],
   "source": [
    "df=pd.read_csv(\"solar_radiation_dataset.csv\")\n",
    "df.head()"
   ]
  },
  {
   "source": [
    "# Split dataset\n",
    "\n",
    "Provides train/test indices to split time series data samples that are observed at fixed time intervals, in train/test sets. In each split, test indices must be higher than before, and thus shuffling in cross validator is inappropriate.\n",
    "\n",
    "This cross-validation object is a variation of KFold. In the kth split, it returns first k folds as train set and the (k+1)th fold as test set."
   ],
   "cell_type": "markdown",
   "metadata": {}
  },
  {
   "cell_type": "code",
   "execution_count": 8,
   "metadata": {
    "tags": []
   },
   "outputs": [
    {
     "output_type": "stream",
     "name": "stdout",
     "text": [
      "TimeSeriesSplit(max_train_size=None, n_splits=5)\n[   0    1    2 ... 5448 5449 5450] [ 5451  5452  5453 ... 10895 10896 10897]\n[    0     1     2 ... 10895 10896 10897] [10898 10899 10900 ... 16342 16343 16344]\n[    0     1     2 ... 16342 16343 16344] [16345 16346 16347 ... 21789 21790 21791]\n[    0     1     2 ... 21789 21790 21791] [21792 21793 21794 ... 27236 27237 27238]\n[    0     1     2 ... 27236 27237 27238] [27239 27240 27241 ... 32683 32684 32685]\n"
     ]
    }
   ],
   "source": [
    "tscv = TimeSeriesSplit(n_splits=5)\n",
    "print(tscv)\n",
    "for train, test in tscv.split(df):\n",
    "    print(\"%s %s\" % (train, test))"
   ]
  },
  {
   "cell_type": "code",
   "execution_count": null,
   "metadata": {},
   "outputs": [],
   "source": []
  }
 ]
}