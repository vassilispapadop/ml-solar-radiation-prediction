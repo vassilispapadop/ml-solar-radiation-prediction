{
 "metadata": {
  "language_info": {
   "codemirror_mode": {
    "name": "ipython",
    "version": 3
   },
   "file_extension": ".py",
   "mimetype": "text/x-python",
   "name": "python",
   "nbconvert_exporter": "python",
   "pygments_lexer": "ipython3",
   "version": "3.9.1-final"
  },
  "orig_nbformat": 2,
  "kernelspec": {
   "name": "python3",
   "display_name": "Python 3",
   "language": "python"
  }
 },
 "nbformat": 4,
 "nbformat_minor": 2,
 "cells": [
  {
   "source": [
    "# Solar radiation prediction\n",
    "This notebook presents data analysis on a four-month dataset collected at the HI-SEAS weather station (Hawaii). The sampling rate is around 5 minutes. The objective is to derive a machine learning (ML) model to forecast solar radiation as a function of the available features.\n",
    "## Dataset\n",
    "The dataset consists of \n",
    "* Solar radiation [W/m^2]\n",
    "* Temperature [F]\n",
    "* Atmospheric pressure [Hg]\n",
    "* Humidity [%]\n",
    "* Wind speed [miles/h]\n",
    "* Wind direction [degrees]\n",
    "\n"
   ],
   "cell_type": "markdown",
   "metadata": {}
  },
  {
   "cell_type": "code",
   "execution_count": null,
   "metadata": {},
   "outputs": [],
   "source": []
  },
  {
   "cell_type": "code",
   "execution_count": null,
   "metadata": {},
   "outputs": [],
   "source": []
  }
 ]
}