{
 "metadata": {
  "language_info": {
   "codemirror_mode": {
    "name": "ipython",
    "version": 3
   },
   "file_extension": ".py",
   "mimetype": "text/x-python",
   "name": "python",
   "nbconvert_exporter": "python",
   "pygments_lexer": "ipython3",
   "version": "3.9.1-final"
  },
  "orig_nbformat": 2,
  "kernelspec": {
   "name": "python3",
   "display_name": "Python 3",
   "language": "python"
  }
 },
 "nbformat": 4,
 "nbformat_minor": 2,
 "cells": [
  {
   "cell_type": "code",
   "execution_count": 28,
   "metadata": {},
   "outputs": [
    {
     "output_type": "stream",
     "name": "stdout",
     "text": [
      "TRAIN: [   0    1    2 ... 5448 5449 5450] TEST: [ 5451  5452  5453 ... 10895 10896 10897]\nTRAIN: [    0     1     2 ... 10895 10896 10897] TEST: [10898 10899 10900 ... 16342 16343 16344]\nTRAIN: [    0     1     2 ... 16342 16343 16344] TEST: [16345 16346 16347 ... 21789 21790 21791]\nTRAIN: [    0     1     2 ... 21789 21790 21791] TEST: [21792 21793 21794 ... 27236 27237 27238]\nTRAIN: [    0     1     2 ... 27236 27237 27238] TEST: [27239 27240 27241 ... 32683 32684 32685]\n"
     ]
    }
   ],
   "source": [
    "import numpy as np\n",
    "import pandas as pd\n",
    "import matplotlib.pyplot as plt\n",
    "from sklearn.model_selection import TimeSeriesSplit\n",
    "dataset = pd.read_csv(\"solar_radiation_dataset.csv\")\n",
    "dataset = dataset.drop([\"UNIXTime\",\"Data\", \"WindDirection(Degrees)\", \"Speed\", \"TimeSunRise\", \"TimeSunSet\", \"Pressure\", \"Humidity\"], axis = 1)\n",
    "dataset.head()\n",
    "X = dataset.drop([\"Radiation\"], axis=1)\n",
    "y = dataset[\"Radiation\"]\n",
    "\n",
    "tscv = TimeSeriesSplit()\n",
    "for train_index, test_index in tscv.split(X):\n",
    "    print(\"TRAIN:\", train_index, \"TEST:\", test_index)\n",
    "    X_train, X_test = X.iloc[train_index], X.iloc[test_index]\n",
    "    y_train, y_test = y.iloc[train_index], y.iloc[test_index]"
   ]
  },
  {
   "cell_type": "code",
   "execution_count": null,
   "metadata": {},
   "outputs": [],
   "source": []
  },
  {
   "cell_type": "code",
   "execution_count": null,
   "metadata": {},
   "outputs": [],
   "source": []
  }
 ]
}