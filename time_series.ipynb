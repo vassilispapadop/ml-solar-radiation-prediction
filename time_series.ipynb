{
 "metadata": {
  "language_info": {
   "codemirror_mode": {
    "name": "ipython",
    "version": 3
   },
   "file_extension": ".py",
   "mimetype": "text/x-python",
   "name": "python",
   "nbconvert_exporter": "python",
   "pygments_lexer": "ipython3",
   "version": "3.9.1-final"
  },
  "orig_nbformat": 2,
  "kernelspec": {
   "name": "python3",
   "display_name": "Python 3",
   "language": "python"
  }
 },
 "nbformat": 4,
 "nbformat_minor": 2,
 "cells": [
  {
   "cell_type": "code",
   "execution_count": 22,
   "metadata": {},
   "outputs": [],
   "source": [
    "from sklearn.model_selection import TimeSeriesSplit\n",
    "from sklearn.model_selection import KFold\n",
    "import numpy as np\n",
    "import matplotlib.pyplot as plt\n",
    "from matplotlib.patches import Patch\n",
    "import seaborn as sns \n",
    "\n",
    "import sklearn\n",
    "from sklearn.linear_model import ElasticNet\n",
    "from sklearn.multioutput import MultiOutputRegressor\n",
    "from sklearn.model_selection import cross_val_score\n",
    "from sklearn.model_selection import GridSearchCV\n",
    "from sklearn.preprocessing import StandardScaler\n",
    "\n",
    "np.random.seed(1338)\n",
    "cmap_data = plt.cm.Paired\n",
    "cmap_cv = plt.cm.coolwarm\n",
    "n_splits = 5\n",
    "\n",
    "import pandas as pd\n",
    "from pandas_datareader import data as web\n",
    "import warnings\n",
    "warnings.filterwarnings('ignore')"
   ]
  },
  {
   "cell_type": "code",
   "execution_count": 23,
   "metadata": {},
   "outputs": [],
   "source": [
    "class BlockingTimeSeriesSplit():\n",
    "    def __init__(self, n_splits):\n",
    "        self.n_splits = n_splits\n",
    "    \n",
    "    def get_n_splits(self, X, y, groups):\n",
    "        return self.n_splits\n",
    "    \n",
    "    def split(self, X, y=None, groups=None):\n",
    "        n_samples = len(X)\n",
    "        k_fold_size = n_samples // self.n_splits\n",
    "        indices = np.arange(n_samples)\n",
    "\n",
    "        margin = 0\n",
    "        for i in range(self.n_splits):\n",
    "            start = i * k_fold_size\n",
    "            stop = start + k_fold_size\n",
    "            mid = int(0.5 * (stop - start)) + start\n",
    "            yield indices[start: mid], indices[mid + margin: stop]"
   ]
  },
  {
   "cell_type": "code",
   "execution_count": 35,
   "metadata": {},
   "outputs": [
    {
     "output_type": "execute_result",
     "data": {
      "text/plain": [
       "                     Radiation  Pressure  Humidity  Speed\n",
       "UNIXTime                                                 \n",
       "2016-09-01 10:00:00       2.58     30.43     103.0  11.25\n",
       "2016-09-01 10:05:00       2.83     30.43     103.0   9.00\n",
       "2016-09-01 10:20:00       2.16     30.43     103.0   7.87\n",
       "2016-09-01 10:25:00       2.21     30.43     103.0  18.00\n",
       "2016-09-01 10:30:00       2.25     30.43     103.0  11.25"
      ],
      "text/html": "<div>\n<style scoped>\n    .dataframe tbody tr th:only-of-type {\n        vertical-align: middle;\n    }\n\n    .dataframe tbody tr th {\n        vertical-align: top;\n    }\n\n    .dataframe thead th {\n        text-align: right;\n    }\n</style>\n<table border=\"1\" class=\"dataframe\">\n  <thead>\n    <tr style=\"text-align: right;\">\n      <th></th>\n      <th>Radiation</th>\n      <th>Pressure</th>\n      <th>Humidity</th>\n      <th>Speed</th>\n    </tr>\n    <tr>\n      <th>UNIXTime</th>\n      <th></th>\n      <th></th>\n      <th></th>\n      <th></th>\n    </tr>\n  </thead>\n  <tbody>\n    <tr>\n      <th>2016-09-01 10:00:00</th>\n      <td>2.58</td>\n      <td>30.43</td>\n      <td>103.0</td>\n      <td>11.25</td>\n    </tr>\n    <tr>\n      <th>2016-09-01 10:05:00</th>\n      <td>2.83</td>\n      <td>30.43</td>\n      <td>103.0</td>\n      <td>9.00</td>\n    </tr>\n    <tr>\n      <th>2016-09-01 10:20:00</th>\n      <td>2.16</td>\n      <td>30.43</td>\n      <td>103.0</td>\n      <td>7.87</td>\n    </tr>\n    <tr>\n      <th>2016-09-01 10:25:00</th>\n      <td>2.21</td>\n      <td>30.43</td>\n      <td>103.0</td>\n      <td>18.00</td>\n    </tr>\n    <tr>\n      <th>2016-09-01 10:30:00</th>\n      <td>2.25</td>\n      <td>30.43</td>\n      <td>103.0</td>\n      <td>11.25</td>\n    </tr>\n  </tbody>\n</table>\n</div>"
     },
     "metadata": {},
     "execution_count": 35
    }
   ],
   "source": [
    "# df = pd.read_csv('solar_radiation_data_trun.csv', parse_dates=True, index_col='UNIXTime')\n",
    "# df = df.sort_index().drop(['Data', 'TimeSunRise', 'TimeSunSet'], axis=1)\n",
    "\n",
    "df = pd.read_csv('solar_radiation_dataset.csv')\n",
    "df = df.sort_index().drop(['Data', 'Time', 'WindDirection(Degrees)', 'TimeSunRise', 'TimeSunSet'], axis=1)\n",
    "df['UNIXTime'] = df['UNIXTime'].astype('datetime64[s]')\n",
    "period = '5min'\n",
    "Radiation = df.resample(period, on='UNIXTime').Radiation.mean()\n",
    "Temperature = df.resample(period, on='UNIXTime').Temperature.mean()\n",
    "Pressure = df.resample(period, on='UNIXTime').Pressure.mean()\n",
    "Humidity = df.resample(period, on='UNIXTime').Humidity.mean()\n",
    "Speed = df.resample(period, on='UNIXTime').Speed.mean()\n",
    "# , 'Pressure': Pressure, 'Humidity':Humidity, 'Speed':Speed \n",
    "d = {'Radiation': Radiation, 'Pressure': Pressure, 'Humidity':Humidity, 'Speed':Speed}\n",
    "df = pd.DataFrame(data=d)\n",
    "df = df.dropna()\n",
    "df.head()"
   ]
  },
  {
   "cell_type": "code",
   "execution_count": 25,
   "metadata": {},
   "outputs": [],
   "source": [
    "STEPS = 7\n",
    "for i in np.arange(1 ,STEPS):\n",
    "    col_name = '{}h_Fwd_Radiation'.format(i)\n",
    "    df[col_name] = df['Radiation'].shift(-i)\n",
    "    \n",
    "df = df.dropna()\n"
   ]
  },
  {
   "cell_type": "code",
   "execution_count": 33,
   "metadata": {},
   "outputs": [
    {
     "output_type": "execute_result",
     "data": {
      "text/plain": [
       "                     Speed\n",
       "UNIXTime                  \n",
       "2016-09-01 10:00:00  11.25\n",
       "2016-09-01 10:05:00   9.00\n",
       "2016-09-01 10:20:00   7.87\n",
       "2016-09-01 10:25:00  18.00\n",
       "2016-09-01 10:30:00  11.25"
      ],
      "text/html": "<div>\n<style scoped>\n    .dataframe tbody tr th:only-of-type {\n        vertical-align: middle;\n    }\n\n    .dataframe tbody tr th {\n        vertical-align: top;\n    }\n\n    .dataframe thead th {\n        text-align: right;\n    }\n</style>\n<table border=\"1\" class=\"dataframe\">\n  <thead>\n    <tr style=\"text-align: right;\">\n      <th></th>\n      <th>Speed</th>\n    </tr>\n    <tr>\n      <th>UNIXTime</th>\n      <th></th>\n    </tr>\n  </thead>\n  <tbody>\n    <tr>\n      <th>2016-09-01 10:00:00</th>\n      <td>11.25</td>\n    </tr>\n    <tr>\n      <th>2016-09-01 10:05:00</th>\n      <td>9.00</td>\n    </tr>\n    <tr>\n      <th>2016-09-01 10:20:00</th>\n      <td>7.87</td>\n    </tr>\n    <tr>\n      <th>2016-09-01 10:25:00</th>\n      <td>18.00</td>\n    </tr>\n    <tr>\n      <th>2016-09-01 10:30:00</th>\n      <td>11.25</td>\n    </tr>\n  </tbody>\n</table>\n</div>"
     },
     "metadata": {},
     "execution_count": 33
    }
   ],
   "source": [
    "Features = 3\n",
    "\n",
    "X = df.iloc[:, :Features]\n",
    "y = df.iloc[:, Features:]\n",
    "\n",
    "split = int(len(df) * 0.7)\n",
    "\n",
    "X_train = X[:split]\n",
    "y_train = y[:split]\n",
    "\n",
    "X_test = X[split:]\n",
    "y_test = y[split:]\n",
    "y.head()"
   ]
  },
  {
   "cell_type": "code",
   "execution_count": 27,
   "metadata": {},
   "outputs": [],
   "source": [
    "def build_model(_alpha, _l1_ratio):\n",
    "    estimator = ElasticNet(\n",
    "        alpha=_alpha,\n",
    "        l1_ratio=_l1_ratio,\n",
    "        fit_intercept=True,\n",
    "        normalize=False,\n",
    "        precompute=False,\n",
    "        max_iter=16,\n",
    "        copy_X=True,\n",
    "        tol=0.1,\n",
    "        warm_start=False,\n",
    "        positive=False,\n",
    "        random_state=None,\n",
    "        selection='random'\n",
    "    )\n",
    "\n",
    "    return MultiOutputRegressor(estimator, n_jobs=4)"
   ]
  },
  {
   "cell_type": "code",
   "execution_count": 28,
   "metadata": {},
   "outputs": [
    {
     "output_type": "execute_result",
     "data": {
      "text/plain": [
       "dict_keys(['explained_variance', 'r2', 'max_error', 'neg_median_absolute_error', 'neg_mean_absolute_error', 'neg_mean_squared_error', 'neg_mean_squared_log_error', 'neg_root_mean_squared_error', 'neg_mean_poisson_deviance', 'neg_mean_gamma_deviance', 'accuracy', 'roc_auc', 'roc_auc_ovr', 'roc_auc_ovo', 'roc_auc_ovr_weighted', 'roc_auc_ovo_weighted', 'balanced_accuracy', 'average_precision', 'neg_log_loss', 'neg_brier_score', 'adjusted_rand_score', 'homogeneity_score', 'completeness_score', 'v_measure_score', 'mutual_info_score', 'adjusted_mutual_info_score', 'normalized_mutual_info_score', 'fowlkes_mallows_score', 'precision', 'precision_macro', 'precision_micro', 'precision_samples', 'precision_weighted', 'recall', 'recall_macro', 'recall_micro', 'recall_samples', 'recall_weighted', 'f1', 'f1_macro', 'f1_micro', 'f1_samples', 'f1_weighted', 'jaccard', 'jaccard_macro', 'jaccard_micro', 'jaccard_samples', 'jaccard_weighted'])"
      ]
     },
     "metadata": {},
     "execution_count": 28
    }
   ],
   "source": [
    "sklearn.metrics.SCORERS.keys()"
   ]
  },
  {
   "cell_type": "code",
   "execution_count": 29,
   "metadata": {},
   "outputs": [
    {
     "output_type": "stream",
     "name": "stdout",
     "text": [
      "RMSE: 114.56455159886283 (+/- 11.088218164616938\n\nR2: 0.8857451102054504 (+/- 0.02113605016886874\n"
     ]
    }
   ],
   "source": [
    "'''Time series splitter'''\n",
    "model = build_model(_alpha=1.0, _l1_ratio=0.3)\n",
    "tscv = TimeSeriesSplit(n_splits=4)\n",
    "rmse = np.sqrt(-cross_val_score(model, X_train, y_train, cv=tscv, scoring='neg_mean_squared_error'))\n",
    "R2 = cross_val_score(model, X_train, y_train, cv=tscv, scoring='r2')\n",
    "\n",
    "print(f\"RMSE: {rmse.mean()} (+/- {rmse.std()}\")\n",
    "print(f\"\\nR2: {R2.mean()} (+/- {R2.std()}\")"
   ]
  },
  {
   "cell_type": "code",
   "execution_count": null,
   "metadata": {},
   "outputs": [],
   "source": [
    "''' Blocking time series splitter'''\n",
    "btscv = BlockingTimeSeriesSplit(n_splits=4)\n",
    "rmse = np.sqrt(-cross_val_score(model, X_train, y_train, cv=btscv, scoring='neg_mean_squared_error'))\n",
    "R2 = cross_val_score(model, X_train, y_train, cv=btscv, scoring='r2')\n",
    "\n",
    "print(f\"RMSE: {rmse.mean()} (+/- {rmse.std()}\")\n",
    "print(f\"\\nR2: {R2.mean()} (+/- {R2.std()}\")"
   ]
  },
  {
   "cell_type": "code",
   "execution_count": null,
   "metadata": {},
   "outputs": [],
   "source": [
    "def plot_grid_search(cv_results, grid_param_1, grid_param_2, name_param_1, name_param_2, best_params):\n",
    "    \n",
    "    # Get Test Scores Mean and std for each grid search\n",
    "    scores_mean = cv_results['mean_test_score']\n",
    "    scores_mean = np.array(scores_mean).reshape(len(grid_param_2),len(grid_param_1))\n",
    "\n",
    "    scores_sd = cv_results['std_test_score']\n",
    "    scores_sd = np.array(scores_sd).reshape(len(grid_param_2),len(grid_param_1))\n",
    "\n",
    "    # Plot Grid search scores\n",
    "    _, ax = plt.subplots(1,1)\n",
    "\n",
    "    # Param1 is the X-axis, Param 2 is represented as a different curve (color line)\n",
    "    for idx, val in enumerate(grid_param_2):\n",
    "        ax.plot(grid_param_1, scores_mean[idx,:], '-o', label= name_param_2 + ': ' + str(val))\n",
    "\n",
    "    ax.set_title(f\"Grid Search Best Params: {best_params}\", fontsize=12, fontweight='medium')\n",
    "    ax.set_xlabel(name_param_1, fontsize=12)\n",
    "    ax.set_ylabel('CV Average Score', fontsize=12)\n",
    "    ax.legend(loc=\"best\", fontsize=15)\n",
    "    ax.grid('on')\n",
    "    ax.legend(bbox_to_anchor=(1.02, 1.02))"
   ]
  },
  {
   "cell_type": "code",
   "execution_count": null,
   "metadata": {},
   "outputs": [],
   "source": [
    "params = {\n",
    "    'estimator__alpha':(0.1, 0.3, 0.5, 0.7, 0.9),\n",
    "    'estimator__l1_ratio':(0.1, 0.3, 0.5, 0.7, 0.9)\n",
    "}"
   ]
  },
  {
   "cell_type": "code",
   "execution_count": null,
   "metadata": {},
   "outputs": [],
   "source": [
    "scores = []\n",
    "for i in range(30):\n",
    "    model = build_model(_alpha=1.0, _l1_ratio=0.3)\n",
    "\n",
    "    finder = GridSearchCV(\n",
    "        estimator=model,\n",
    "        param_grid=params,\n",
    "        scoring='r2',\n",
    "        n_jobs=4,\n",
    "        iid=False,\n",
    "        refit=True,\n",
    "        cv=tscv,  # change this to the splitter subject to test\n",
    "        verbose=1,\n",
    "        pre_dispatch=8,\n",
    "        error_score=-999,\n",
    "        return_train_score=True\n",
    "        )\n",
    "\n",
    "    finder.fit(X_train, y_train)\n",
    "\n",
    "    best_params = finder.best_params_\n",
    "    best_score = round(finder.best_score_,4)\n",
    "    scores.append(best_score)"
   ]
  },
  {
   "cell_type": "code",
   "execution_count": null,
   "metadata": {},
   "outputs": [],
   "source": [
    "scores0 = []\n",
    "for i in range(30):\n",
    "    model = build_model(_alpha=1.0, _l1_ratio=0.3)\n",
    "    \n",
    "    finder0 = GridSearchCV(\n",
    "        estimator=model,\n",
    "        param_grid=params,\n",
    "        scoring='r2',\n",
    "        n_jobs=4,\n",
    "        iid=False,\n",
    "        refit=True,\n",
    "        cv=btscv,  # change this to the splitter subject to test\n",
    "        verbose=1,\n",
    "        pre_dispatch=8,\n",
    "        error_score=-999,\n",
    "        return_train_score=True\n",
    "        )\n",
    "\n",
    "    finder0.fit(X_train, y_train)\n",
    "\n",
    "    best_params0 = finder0.best_params_\n",
    "    best_score0 = round(finder0.best_score_,4)\n",
    "    scores0.append(best_score)"
   ]
  },
  {
   "cell_type": "code",
   "execution_count": null,
   "metadata": {},
   "outputs": [],
   "source": [
    "finder0.cv_results_.keys()"
   ]
  },
  {
   "cell_type": "code",
   "execution_count": null,
   "metadata": {},
   "outputs": [],
   "source": [
    "scores1 = pd.DataFrame(scores)\n",
    "bs = round(float(scores1.mean()),4)\n",
    "print(f'\\nTime series splitter best score: {bs}')\n",
    "\n",
    "plot_grid_search(finder.cv_results_, params['estimator__l1_ratio'], params['estimator__alpha'], \n",
    "                 'l1_ratio', 'alpha', best_params)\n",
    "\n",
    "\n"
   ]
  },
  {
   "cell_type": "code",
   "execution_count": null,
   "metadata": {},
   "outputs": [],
   "source": []
  }
 ]
}