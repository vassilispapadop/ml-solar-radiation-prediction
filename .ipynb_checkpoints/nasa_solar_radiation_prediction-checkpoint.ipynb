{
 "cells": [
  {
   "cell_type": "markdown",
   "metadata": {},
   "source": [
    "# Solar Radiation Prediction\n",
    "\n",
    "Data analysis on a 4 months dataset collected at the HI-SEAS weather station (Hawaii). The observation sampling rate is 5 minutes and collected features/variables are:\n",
    "\n",
    "- Solar radiation [W/m^2]\n",
    "- Temperature [F]\n",
    "- Atmospheric pressure [Hg]\n",
    "- Humidity [%]\n",
    "- Wind speed [miles/h]\n",
    "- Wind direction [degrees]\n",
    "- Time sun rise\n",
    "- TIme sun set\n",
    "\n",
    "The dataset is a time series with cyclicality(day) and seasonality(months). It is obvious that solar radiation is a function of duration of day light(among other features), thus we\n",
    "will do time feature engineering in order to account for the relative time of day.\n",
    "\n",
    "Goal is to train ML model to predict solar radiation as a function of the above features. Particulariy, we will establish a base line with a simple regression model and then we will use\n",
    "assambles (Random Forest, Gradient Boosting) with Grid Search hyper-parameter tuning. R^2 and Mean-Squared-Error(MSE) used as model evaluation metrics. "
   ]
  },
  {
   "cell_type": "markdown",
   "metadata": {},
   "source": [
    "## Load dataset and Preperation"
   ]
  },
  {
   "cell_type": "code",
   "execution_count": 1,
   "metadata": {},
   "outputs": [],
   "source": [
    "import numpy as np\n",
    "import pandas as pd\n",
    "from datetime import datetime\n",
    "from dateutil.tz import *\n",
    "import matplotlib.pyplot as plt\n",
    "import seaborn as sns\n",
    "from sklearn.linear_model import LinearRegression\n",
    "from sklearn.model_selection import train_test_split\n",
    "from sklearn.metrics import mean_squared_error as MSE\n",
    "from sklearn.metrics import r2_score\n",
    "from sklearn.model_selection import cross_val_score\n",
    "from sklearn.ensemble import RandomForestRegressor\n",
    "from sklearn.ensemble import GradientBoostingRegressor\n",
    "import xgboost as xgb\n",
    "from sklearn.pipeline import Pipeline\n",
    "from sklearn.preprocessing import StandardScaler\n",
    "from sklearn.model_selection import GridSearchCV, RandomizedSearchCV, TimeSeriesSplit"
   ]
  },
  {
   "cell_type": "code",
   "execution_count": 2,
   "metadata": {},
   "outputs": [],
   "source": [
    "\n",
    "class FeatureCreation:\n",
    "    def __init__(self, featureCase):\n",
    "        self.featureCase = featureCase\n",
    "        self.df = None\n",
    "\n",
    "    \n",
    "    def loadDataset(self, fileName):\n",
    "        try:\n",
    "            self.df = pd.read_csv(fileName)\n",
    "        except FileNotFoundError as notFound:\n",
    "            raise notFound\n",
    "            \n",
    "    def sanityCheck(self):\n",
    "        self.df.info()\n",
    "        print('\\nCheck to nan/null')\n",
    "        self.df.isnull().sum()\n",
    "        \n",
    "    def fixTimeZone(self):\n",
    "        '''Convert column UNIXTime to datetime object and set correct Time zone. Data collected at HST, \n",
    "            Hawaii Standard Zone\n",
    "        '''\n",
    "        self.df['Date'] = self.df['UNIXTime'].astype('datetime64[s]')\n",
    "        #Set time zone\n",
    "        self.df['Date'] = self.df['Date'].dt.tz_localize('UTC').dt.tz_convert('HST')\n",
    "        \n",
    "    \n",
    "    def timeConversion(self):\n",
    "        ''' Convert features TimeSunRise and TimeSunSet to include actual date of the observation '''\n",
    "        \n",
    "        try:\n",
    "            # #Holds actual observation time\n",
    "            self.df['Data'] = pd.to_datetime(self.df['Data']).dt.date\n",
    "\n",
    "            #Convert TimeSunRise and TimeSunSet features datetime.time objects\n",
    "            self.df['TimeSunRise'] = pd.to_datetime(df['TimeSunRise']).dt.time\n",
    "            self.df['TimeSunSet'] = pd.to_datetime(df['TimeSunSet']).dt.time\n",
    "\n",
    "            #Create new sunset/sunrise features with observation time\n",
    "            self.df['sunrise_time'] = self.df.apply(lambda row: pd.datetime.combine(row['Data'], row['TimeSunRise']), axis = 1)\n",
    "            self.df['sunset_time'] = self.df.apply(lambda row: pd.datetime.combine(row['Data'], row['TimeSunSet']), axis = 1)\n",
    "\n",
    "            #Correct timezone(HST)\n",
    "            self.df['sunrise_time'] = self.df['sunrise_time'].dt.tz_localize('HST')\n",
    "            self.df['sunset_time'] = self.df['sunset_time'].dt.tz_localize('HST')\n",
    "\n",
    "            #Set index\n",
    "            self.df.set_index('Date', inplace = True)\n",
    "\n",
    "            #Sort by index\n",
    "            self.df.sort_index()\n",
    "        except KeyError as ke:\n",
    "            print(ke)\n",
    "\n",
    "    \n",
    "    def dropColumns(self, columns):\n",
    "        try:\n",
    "            self.df.drop(columns = columns, inplace = True)\n",
    "        except KeyError as ke:\n",
    "            print(ke)\n",
    "            \n",
    "            \n",
    "    def createFeature(self):\n",
    "        '''based on self.featureCases it transforms the data accordingly. Supported transformations are\n",
    "            a) RelativeTime -> relative time of observation in respect to daylight\n",
    "            b) Sun is up only\n",
    "        '''\n",
    "        \n",
    "        if self.featureCase == 'rel_time':\n",
    "            self.relativeTimeFeature()\n",
    "        elif self.featureCase == 'sun_is_up':\n",
    "            self.sunIsUp()\n",
    "        \n",
    "        \n",
    "    def relativeTimeFeature(self):\n",
    "        print('Creating feature:', self.featureCase)\n",
    "        #Converting sunrise and sunset times into timestamp\n",
    "        self.df['sunrise_timestamp'] = self.df.apply(lambda row: datetime.timestamp(row['sunrise_time']), axis = 1)\n",
    "        self.df['sunset_timestamp'] = self.df.apply(lambda row: datetime.timestamp(row['sunset_time']), axis = 1)\n",
    "\n",
    "        #Creating a column containing the number of daily light hours\n",
    "        self.df['Daylight_duration'] = (self.df['sunset_timestamp'] - self.df['sunrise_timestamp'])/60/60\n",
    "\n",
    "        #Creating column describing current time relative to sunrise/sunset\n",
    "        self.df['Rel_time'] = (self.df['UNIXTime']- self.df['sunrise_timestamp'])/(self.df['sunset_timestamp']-self.df['sunrise_timestamp'])\n",
    "\n",
    "        #Removing unnecessary features/columns\n",
    "        self.dropColumns(['UNIXTime','sunrise_timestamp', 'sunset_timestamp', 'sunset_time', 'sunrise_time'])\n",
    "        \n",
    "        \n",
    "        \n",
    "    def daylight(self, current_time, rising_time, set_time):\n",
    "        return (rising_time < current_time) and (current_time < set_time)\n",
    "\n",
    "    def sunIsUp(self):\n",
    "        print('Creating feature', self.featureCase)\n",
    "        sun_is_up = [self.daylight(self.df.index[index], self.df[\"sunrise_time\"][index], self.df[\"sunset_time\"][index]) for index in range(self.df.shape[0])]\n",
    "        sun_is_up = np.array(sun_is_up, dtype = int)\n",
    "        self.df[\"sun_is_up\"] = sun_is_up\n",
    "        \n",
    "        proportion = round(sum(self.df[\"sun_is_up\"]/self.df.shape[0]*100), 2)\n",
    "        print(\"Proportion of record with the sun up : {0}%\".format(proportion))\n",
    "            \n",
    "    "
   ]
  },
  {
   "cell_type": "code",
   "execution_count": 3,
   "metadata": {},
   "outputs": [
    {
     "name": "stdout",
     "output_type": "stream",
     "text": [
      "<class 'pandas.core.frame.DataFrame'>\n",
      "RangeIndex: 32686 entries, 0 to 32685\n",
      "Data columns (total 11 columns):\n",
      " #   Column                  Non-Null Count  Dtype  \n",
      "---  ------                  --------------  -----  \n",
      " 0   UNIXTime                32686 non-null  int64  \n",
      " 1   Data                    32686 non-null  object \n",
      " 2   Time                    32686 non-null  object \n",
      " 3   Radiation               32686 non-null  float64\n",
      " 4   Temperature             32686 non-null  int64  \n",
      " 5   Pressure                32686 non-null  float64\n",
      " 6   Humidity                32686 non-null  int64  \n",
      " 7   WindDirection(Degrees)  32686 non-null  float64\n",
      " 8   Speed                   32686 non-null  float64\n",
      " 9   TimeSunRise             32686 non-null  object \n",
      " 10  TimeSunSet              32686 non-null  object \n",
      "dtypes: float64(4), int64(3), object(4)\n",
      "memory usage: 2.7+ MB\n",
      "\n",
      "Check to nan/null\n"
     ]
    }
   ],
   "source": [
    "''' Import dataset and inspect observations(nan values) '''\n",
    "RelTimeCase = FeatureCreation('rel_time')\n",
    "RelTimeCase.loadDataset(\"solar_radiation_dataset.csv\")\n",
    "RelTimeCase.sanityCheck()\n",
    "\n"
   ]
  },
  {
   "cell_type": "markdown",
   "metadata": {},
   "source": [
    "we need to set the correct timezone which is Hawaii Standard Zone(HSZ)"
   ]
  },
  {
   "cell_type": "code",
   "execution_count": 4,
   "metadata": {},
   "outputs": [
    {
     "data": {
      "text/html": [
       "<div>\n",
       "<style scoped>\n",
       "    .dataframe tbody tr th:only-of-type {\n",
       "        vertical-align: middle;\n",
       "    }\n",
       "\n",
       "    .dataframe tbody tr th {\n",
       "        vertical-align: top;\n",
       "    }\n",
       "\n",
       "    .dataframe thead th {\n",
       "        text-align: right;\n",
       "    }\n",
       "</style>\n",
       "<table border=\"1\" class=\"dataframe\">\n",
       "  <thead>\n",
       "    <tr style=\"text-align: right;\">\n",
       "      <th></th>\n",
       "      <th>UNIXTime</th>\n",
       "      <th>Data</th>\n",
       "      <th>Time</th>\n",
       "      <th>Radiation</th>\n",
       "      <th>Temperature</th>\n",
       "      <th>Pressure</th>\n",
       "      <th>Humidity</th>\n",
       "      <th>WindDirection(Degrees)</th>\n",
       "      <th>Speed</th>\n",
       "      <th>TimeSunRise</th>\n",
       "      <th>TimeSunSet</th>\n",
       "      <th>Date</th>\n",
       "    </tr>\n",
       "  </thead>\n",
       "  <tbody>\n",
       "    <tr>\n",
       "      <th>0</th>\n",
       "      <td>1475229326</td>\n",
       "      <td>9/29/2016 12:00:00 AM</td>\n",
       "      <td>23:55:26</td>\n",
       "      <td>1.21</td>\n",
       "      <td>48</td>\n",
       "      <td>30.46</td>\n",
       "      <td>59</td>\n",
       "      <td>177.39</td>\n",
       "      <td>5.62</td>\n",
       "      <td>06:13:00</td>\n",
       "      <td>18:13:00</td>\n",
       "      <td>2016-09-29 23:55:26-10:00</td>\n",
       "    </tr>\n",
       "    <tr>\n",
       "      <th>1</th>\n",
       "      <td>1475229023</td>\n",
       "      <td>9/29/2016 12:00:00 AM</td>\n",
       "      <td>23:50:23</td>\n",
       "      <td>1.21</td>\n",
       "      <td>48</td>\n",
       "      <td>30.46</td>\n",
       "      <td>58</td>\n",
       "      <td>176.78</td>\n",
       "      <td>3.37</td>\n",
       "      <td>06:13:00</td>\n",
       "      <td>18:13:00</td>\n",
       "      <td>2016-09-29 23:50:23-10:00</td>\n",
       "    </tr>\n",
       "    <tr>\n",
       "      <th>2</th>\n",
       "      <td>1475228726</td>\n",
       "      <td>9/29/2016 12:00:00 AM</td>\n",
       "      <td>23:45:26</td>\n",
       "      <td>1.23</td>\n",
       "      <td>48</td>\n",
       "      <td>30.46</td>\n",
       "      <td>57</td>\n",
       "      <td>158.75</td>\n",
       "      <td>3.37</td>\n",
       "      <td>06:13:00</td>\n",
       "      <td>18:13:00</td>\n",
       "      <td>2016-09-29 23:45:26-10:00</td>\n",
       "    </tr>\n",
       "    <tr>\n",
       "      <th>3</th>\n",
       "      <td>1475228421</td>\n",
       "      <td>9/29/2016 12:00:00 AM</td>\n",
       "      <td>23:40:21</td>\n",
       "      <td>1.21</td>\n",
       "      <td>48</td>\n",
       "      <td>30.46</td>\n",
       "      <td>60</td>\n",
       "      <td>137.71</td>\n",
       "      <td>3.37</td>\n",
       "      <td>06:13:00</td>\n",
       "      <td>18:13:00</td>\n",
       "      <td>2016-09-29 23:40:21-10:00</td>\n",
       "    </tr>\n",
       "    <tr>\n",
       "      <th>4</th>\n",
       "      <td>1475228124</td>\n",
       "      <td>9/29/2016 12:00:00 AM</td>\n",
       "      <td>23:35:24</td>\n",
       "      <td>1.17</td>\n",
       "      <td>48</td>\n",
       "      <td>30.46</td>\n",
       "      <td>62</td>\n",
       "      <td>104.95</td>\n",
       "      <td>5.62</td>\n",
       "      <td>06:13:00</td>\n",
       "      <td>18:13:00</td>\n",
       "      <td>2016-09-29 23:35:24-10:00</td>\n",
       "    </tr>\n",
       "  </tbody>\n",
       "</table>\n",
       "</div>"
      ],
      "text/plain": [
       "     UNIXTime                   Data      Time  Radiation  Temperature  \\\n",
       "0  1475229326  9/29/2016 12:00:00 AM  23:55:26       1.21           48   \n",
       "1  1475229023  9/29/2016 12:00:00 AM  23:50:23       1.21           48   \n",
       "2  1475228726  9/29/2016 12:00:00 AM  23:45:26       1.23           48   \n",
       "3  1475228421  9/29/2016 12:00:00 AM  23:40:21       1.21           48   \n",
       "4  1475228124  9/29/2016 12:00:00 AM  23:35:24       1.17           48   \n",
       "\n",
       "   Pressure  Humidity  WindDirection(Degrees)  Speed TimeSunRise TimeSunSet  \\\n",
       "0     30.46        59                  177.39   5.62    06:13:00   18:13:00   \n",
       "1     30.46        58                  176.78   3.37    06:13:00   18:13:00   \n",
       "2     30.46        57                  158.75   3.37    06:13:00   18:13:00   \n",
       "3     30.46        60                  137.71   3.37    06:13:00   18:13:00   \n",
       "4     30.46        62                  104.95   5.62    06:13:00   18:13:00   \n",
       "\n",
       "                       Date  \n",
       "0 2016-09-29 23:55:26-10:00  \n",
       "1 2016-09-29 23:50:23-10:00  \n",
       "2 2016-09-29 23:45:26-10:00  \n",
       "3 2016-09-29 23:40:21-10:00  \n",
       "4 2016-09-29 23:35:24-10:00  "
      ]
     },
     "execution_count": 4,
     "metadata": {},
     "output_type": "execute_result"
    }
   ],
   "source": [
    "RelTimeCase.fixTimeZone()\n",
    "RelTimeCase.df.head()\n"
   ]
  },
  {
   "cell_type": "markdown",
   "metadata": {},
   "source": [
    "Feature 'Data' does not contain a valid Time of the day but only the correct Date of the observation. We will create two new columns, sunrise_time and sunset_time which will include the actual sun-set and sun-rise for specific day. Thus will combine parts of 'Data' with TimeSunRise and TimeSunSet respectevely.\n",
    "\n",
    "Then we drop unnecessary columns (Data', 'Time', 'TimeSunRise', 'TimeSunSet)"
   ]
  },
  {
   "cell_type": "code",
   "execution_count": 5,
   "metadata": {},
   "outputs": [
    {
     "ename": "NameError",
     "evalue": "name 'df' is not defined",
     "output_type": "error",
     "traceback": [
      "\u001b[0;31m---------------------------------------------------------------------------\u001b[0m",
      "\u001b[0;31mNameError\u001b[0m                                 Traceback (most recent call last)",
      "\u001b[0;32m<ipython-input-5-a0ba73d60a27>\u001b[0m in \u001b[0;36m<module>\u001b[0;34m\u001b[0m\n\u001b[0;32m----> 1\u001b[0;31m \u001b[0mRelTimeCase\u001b[0m\u001b[0;34m.\u001b[0m\u001b[0mtimeConversion\u001b[0m\u001b[0;34m(\u001b[0m\u001b[0;34m)\u001b[0m\u001b[0;34m\u001b[0m\u001b[0;34m\u001b[0m\u001b[0m\n\u001b[0m\u001b[1;32m      2\u001b[0m \u001b[0mRelTimeCase\u001b[0m\u001b[0;34m.\u001b[0m\u001b[0mdropColumns\u001b[0m\u001b[0;34m(\u001b[0m\u001b[0;34m[\u001b[0m\u001b[0;34m'Data'\u001b[0m\u001b[0;34m,\u001b[0m \u001b[0;34m'Time'\u001b[0m\u001b[0;34m,\u001b[0m \u001b[0;34m'TimeSunRise'\u001b[0m\u001b[0;34m,\u001b[0m \u001b[0;34m'TimeSunSet'\u001b[0m\u001b[0;34m]\u001b[0m\u001b[0;34m)\u001b[0m\u001b[0;34m\u001b[0m\u001b[0;34m\u001b[0m\u001b[0m\n\u001b[1;32m      3\u001b[0m \u001b[0mRelTimeCase\u001b[0m\u001b[0;34m.\u001b[0m\u001b[0mdf\u001b[0m\u001b[0;34m.\u001b[0m\u001b[0mhead\u001b[0m\u001b[0;34m(\u001b[0m\u001b[0;34m)\u001b[0m\u001b[0;34m\u001b[0m\u001b[0;34m\u001b[0m\u001b[0m\n",
      "\u001b[0;32m<ipython-input-2-622c781fa121>\u001b[0m in \u001b[0;36mtimeConversion\u001b[0;34m(self)\u001b[0m\n\u001b[1;32m     33\u001b[0m \u001b[0;34m\u001b[0m\u001b[0m\n\u001b[1;32m     34\u001b[0m             \u001b[0;31m#Convert TimeSunRise and TimeSunSet features datetime.time objects\u001b[0m\u001b[0;34m\u001b[0m\u001b[0;34m\u001b[0m\u001b[0;34m\u001b[0m\u001b[0m\n\u001b[0;32m---> 35\u001b[0;31m             \u001b[0mself\u001b[0m\u001b[0;34m.\u001b[0m\u001b[0mdf\u001b[0m\u001b[0;34m[\u001b[0m\u001b[0;34m'TimeSunRise'\u001b[0m\u001b[0;34m]\u001b[0m \u001b[0;34m=\u001b[0m \u001b[0mpd\u001b[0m\u001b[0;34m.\u001b[0m\u001b[0mto_datetime\u001b[0m\u001b[0;34m(\u001b[0m\u001b[0mdf\u001b[0m\u001b[0;34m[\u001b[0m\u001b[0;34m'TimeSunRise'\u001b[0m\u001b[0;34m]\u001b[0m\u001b[0;34m)\u001b[0m\u001b[0;34m.\u001b[0m\u001b[0mdt\u001b[0m\u001b[0;34m.\u001b[0m\u001b[0mtime\u001b[0m\u001b[0;34m\u001b[0m\u001b[0;34m\u001b[0m\u001b[0m\n\u001b[0m\u001b[1;32m     36\u001b[0m             \u001b[0mself\u001b[0m\u001b[0;34m.\u001b[0m\u001b[0mdf\u001b[0m\u001b[0;34m[\u001b[0m\u001b[0;34m'TimeSunSet'\u001b[0m\u001b[0;34m]\u001b[0m \u001b[0;34m=\u001b[0m \u001b[0mpd\u001b[0m\u001b[0;34m.\u001b[0m\u001b[0mto_datetime\u001b[0m\u001b[0;34m(\u001b[0m\u001b[0mdf\u001b[0m\u001b[0;34m[\u001b[0m\u001b[0;34m'TimeSunSet'\u001b[0m\u001b[0;34m]\u001b[0m\u001b[0;34m)\u001b[0m\u001b[0;34m.\u001b[0m\u001b[0mdt\u001b[0m\u001b[0;34m.\u001b[0m\u001b[0mtime\u001b[0m\u001b[0;34m\u001b[0m\u001b[0;34m\u001b[0m\u001b[0m\n\u001b[1;32m     37\u001b[0m \u001b[0;34m\u001b[0m\u001b[0m\n",
      "\u001b[0;31mNameError\u001b[0m: name 'df' is not defined"
     ]
    }
   ],
   "source": [
    "RelTimeCase.timeConversion()\n",
    "RelTimeCase.dropColumns(['Data', 'Time', 'TimeSunRise', 'TimeSunSet'])\n",
    "RelTimeCase.df.head()\n"
   ]
  },
  {
   "cell_type": "markdown",
   "metadata": {},
   "source": [
    "In this approach we assume(though reasonable assumption) that solar radiation is practically zero outsite of sun light period. Before Sunrise and After sunset. In order to validate this assumption, we will choose 5 random days from the dataset and plot the radiation as a function of time. \n",
    "We also add 2 vertical lines which denote the day light period."
   ]
  },
  {
   "cell_type": "code",
   "execution_count": null,
   "metadata": {},
   "outputs": [],
   "source": [
    "'''It is reasonable to expect that the solar radiation, for any  day, would be approximately zero before the sunrise and after the sunset time. \n",
    "Quick visualization check '''\n",
    "df_random_days = [RelTimeCase.df.loc['2016-09-25':'2016-09-25',:], \n",
    "                    RelTimeCase.df.loc['2016-10-25':'2016-10-25',:],\n",
    "                    RelTimeCase.df.loc['2016-11-25':'2016-11-25',:]]\n",
    "\n",
    "for day in df_random_days:\n",
    "    plt.figure(figsize = (7,2))\n",
    "    plt.plot(day.Radiation, 'o', markerfacecolor = 'w')\n",
    "\n",
    "    #Plotting vertical line at sunrise\n",
    "    plt.axvline(day.sunrise_time.iloc[0], label = 'Sunrise time', color = 'yellow')\n",
    "\n",
    "    #Plotting vertical line at sunset\n",
    "    plt.axvline(day.sunset_time.iloc[0], label = 'Sunset time', color = 'red') \n",
    "\n",
    "    #Adjusting timezone of x-axis\n",
    "    plt.gca().xaxis_date('HST')\n",
    "\n",
    "    plt.legend()\n",
    "    plt.show()\n"
   ]
  },
  {
   "cell_type": "markdown",
   "metadata": {},
   "source": [
    "Above plots confirm the assumption as well the the correct manipulation of dates."
   ]
  },
  {
   "cell_type": "markdown",
   "metadata": {},
   "source": [
    "## Preliminary Analysis\n",
    "\n",
    "We check range of each feature to see if they make sense, clean dataset."
   ]
  },
  {
   "cell_type": "code",
   "execution_count": null,
   "metadata": {},
   "outputs": [],
   "source": [
    "''' Check ranges for each feature, see if the make sense '''\n",
    "RelTimeCase.df.describe()\n"
   ]
  },
  {
   "cell_type": "markdown",
   "metadata": {},
   "source": [
    "All values seem to make sense, though in feature Humidity we see that the max value is 103% but we choose to ignore it.\n",
    "\n",
    "### Distribution of features\n",
    "\n",
    "Understand how the each feature is allocated between their lower and upper limits."
   ]
  },
  {
   "cell_type": "code",
   "execution_count": null,
   "metadata": {},
   "outputs": [],
   "source": [
    "def featureDistPlots(df):\n",
    "    ''' Check distribution of features '''\n",
    "    fig, ax = plt.subplots(nrows =2, ncols = 6, figsize = (25, 10))\n",
    "    features = ['Radiation', 'Temperature','Pressure', 'Humidity', 'Speed', 'WindDirection(Degrees)']\n",
    "    index = 0\n",
    "\n",
    "    #Distribution\n",
    "    for feature in features:\n",
    "        sns.histplot(x=df[feature], ax = ax[0,index])\n",
    "        ax[0,index].set_xlabel(feature, fontsize = 14)\n",
    "        index += 1\n",
    "\n",
    "    #Box plots\n",
    "    index = 0\n",
    "    for feature in features:\n",
    "        sns.boxplot(x=df[feature], ax = ax[1,index])\n",
    "        ax[0,index].set_xlabel(feature, fontsize = 14)\n",
    "        index += 1\n",
    "\n",
    "\n",
    "    fig.suptitle('Distribution and box plots', fontsize = 22)\n",
    "    fig.tight_layout()\n",
    "    fig.subplots_adjust(top=0.9)\n",
    "\n",
    "    plt.show()"
   ]
  },
  {
   "cell_type": "code",
   "execution_count": null,
   "metadata": {},
   "outputs": [],
   "source": [
    "# Plots distributions\n",
    "featureDistPlots(RelTimeCase.df)"
   ]
  },
  {
   "cell_type": "markdown",
   "metadata": {},
   "source": [
    "Explanation: throw NotImplementedException"
   ]
  },
  {
   "cell_type": "markdown",
   "metadata": {},
   "source": [
    "## Feature Engineering\n",
    "\n",
    "We consider that all features included in the dataset, are usefull for prediction of target value (Radiation).\n",
    "We also need to take into account the time of the day as an indication because radiation heavily depends on solar position\n",
    "on the sky and the duration of day light of each day.\n",
    "\n",
    "We define 2 new features.\n",
    "- Relative time of day (Rel_time) = $\\frac{\\text{Current time - Sunrise Time}}{\\text{Sunrise Time - Sunset Time}}$\n",
    "    - < 0 before sunrise\n",
    "    - = 0 at sunrise\n",
    "    - '>' 0 but < 1 between sunrise and sunset\n",
    "    - = 1 at sunset\n",
    "    - '>' 1 after sunset\n",
    "    \n",
    "- Solar day duration (Daylight_duration) = $\\text{Sunrise Time - Sunset Time}$"
   ]
  },
  {
   "cell_type": "code",
   "execution_count": null,
   "metadata": {},
   "outputs": [],
   "source": [
    "'''In this first appoach we would like to create a new feature which will indicate the relative time\n",
    "of the day the observation was performed in relation to daylight duration.\n",
    "We call the createFeature method from FeatureCreation class and pass the desired transformation argument'''\n",
    "RelTimeCase.createFeature()\n",
    "RelTimeCase.df.head()\n"
   ]
  },
  {
   "cell_type": "markdown",
   "metadata": {},
   "source": [
    "## Features Correlation"
   ]
  },
  {
   "cell_type": "code",
   "execution_count": null,
   "metadata": {},
   "outputs": [],
   "source": [
    "def corrMatrix(data):\n",
    "    #Plotting a heatmap of the various features in the dataset\n",
    "    fig, ax = plt.subplots(figsize = (15,5))\n",
    "    sns.heatmap(data.corr(), annot = True, cmap = 'YlGnBu')\n",
    "    fig.suptitle('Correlation matrix', fontsize = 16)\n",
    "    plt.show()\n",
    "\n",
    "corrMatrix(RelTimeCase.df.corr())"
   ]
  },
  {
   "cell_type": "markdown",
   "metadata": {},
   "source": [
    "Explanation: throw NotImplementedException"
   ]
  },
  {
   "cell_type": "markdown",
   "metadata": {},
   "source": [
    "## Features scatter function of Radiation"
   ]
  },
  {
   "cell_type": "code",
   "execution_count": null,
   "metadata": {},
   "outputs": [],
   "source": [
    "def scatterPlots(df):\n",
    "    fig, ax = plt.subplots(nrows =2, ncols = 4, figsize = (23,8))\n",
    "\n",
    "    ax[0,0].plot(df.Temperature, df.Radiation,'o', markerfacecolor='w')\n",
    "    ax[0,0].set_xlabel('Temperature [F]', fontsize = 14)\n",
    "    ax[0,0].set_ylabel('Radiation [W/m^2]', fontsize = 14)\n",
    "\n",
    "    ax[0,1].plot(df.Pressure, df.Radiation,'o', markerfacecolor='w')\n",
    "    ax[0,1].set_xlabel('Pressure [Hg]', fontsize = 14)\n",
    "    ax[0,1].set_ylabel('Radiation [W/m^2]', fontsize = 14)\n",
    "\n",
    "    ax[0,2].plot(df.Humidity, df.Radiation,'o', markerfacecolor='w')\n",
    "    ax[0,2].set_xlabel('Humidity [%]', fontsize = 14)\n",
    "    ax[0,2].set_ylabel('Radiation [W/m^2]', fontsize = 14)\n",
    "\n",
    "    ax[0,3].plot(df.Daylight_duration, df.Radiation,'o', markerfacecolor='w')\n",
    "    ax[0,3].set_xlabel('Hours of light [h]', fontsize = 14)\n",
    "    ax[0,3].set_ylabel('Radiation [W/m^2]', fontsize = 14)\n",
    "\n",
    "    ax[1,0].plot(df.Rel_time, df.Radiation,'o', markerfacecolor='w')\n",
    "    ax[1,0].set_xlabel('Rel_time', fontsize = 14)\n",
    "    ax[1,0].set_ylabel('Radiation [W/m^2]', fontsize = 14)\n",
    "\n",
    "    ax[1,1].plot(df.Speed, df.Radiation,'o', markerfacecolor='w')\n",
    "    ax[1,1].set_xlabel('Wind speed [miles/h]', fontsize = 14)\n",
    "    ax[1,1].set_ylabel('Radiation [W/m^2]', fontsize = 14)\n",
    "\n",
    "    ax[1,2].plot(df['WindDirection(Degrees)'], df.Radiation,'o', markerfacecolor='w')\n",
    "    ax[1,2].set_xlabel('Wind direction [degrees]', fontsize = 14)\n",
    "    ax[1,2].set_ylabel('Radiation [W/m^2]', fontsize = 14)\n",
    "\n",
    "    fig.delaxes(ax[1,3])\n",
    "\n",
    "    fig.suptitle('Scatter plots of the solar radiation as a function of the various features', fontsize = 22)\n",
    "    fig.tight_layout()\n",
    "    fig.subplots_adjust(top=0.9)\n",
    "\n",
    "    plt.show()"
   ]
  },
  {
   "cell_type": "markdown",
   "metadata": {},
   "source": [
    "Positive linear correlation with temperature \n",
    "Seems there is a correlation between radiation peak values with pressure peak values."
   ]
  },
  {
   "cell_type": "code",
   "execution_count": null,
   "metadata": {},
   "outputs": [],
   "source": [
    "scatterPlots(RelTimeCase.df)"
   ]
  },
  {
   "cell_type": "markdown",
   "metadata": {},
   "source": [
    "## Models\n",
    "\n",
    "We are going to set a baseline with a simple linear model and will use RandomForest and GradientBoosting with GridSearch to get better results.\n",
    "\n",
    "Evaluation metrics:\n",
    "- R^2\n",
    "- Mean Squared Error (MSE)"
   ]
  },
  {
   "cell_type": "markdown",
   "metadata": {},
   "source": [
    "## Linear Regression\n",
    "\n",
    "Split data to train(70%) and test(30%)"
   ]
  },
  {
   "cell_type": "code",
   "execution_count": null,
   "metadata": {},
   "outputs": [],
   "source": [
    "class LinearRegressionWrapper:\n",
    "    def __init__(self, df, test_size):\n",
    "        self.lm = LinearRegression()\n",
    "        self.df = df\n",
    "        self.test_size = test_size\n",
    "        X = self.df.drop(columns = 'Radiation')\n",
    "        y = self.df.Radiation\n",
    "        #Splitting data into train and test sets\n",
    "        self.X_train, self.X_test, self.y_train, self.y_test = train_test_split(X,y,\n",
    "                                                           test_size = self.test_size,\n",
    "                                                           random_state = 100)\n",
    "        self.pred_train = None\n",
    "        self.pred_test = None\n",
    "        \n",
    "    def fit(self):\n",
    "        self.lm.fit(self.X_train, self.y_train)\n",
    "    \n",
    "    def predict(self):\n",
    "        self.pred_train = self.lm.predict(self.X_train)\n",
    "        self.pred_test = self.lm.predict(self.X_test)\n",
    "    \n",
    "    def predictPartial(self, X):\n",
    "        return self.lm.predict(X)\n",
    "    \n",
    "    def scores(self):\n",
    "        #Squared error\n",
    "        print('Linear model, R^2 training set: {:.2f}'.format(r2_score(self.y_train, self.pred_train)))\n",
    "        print('Linear model, R^2 test set: {:.2f}'.format(r2_score(self.y_test, self.pred_test)))\n",
    "\n",
    "        #Mean squared error (MSE)\n",
    "        print('Simple Linear model, MSE training set: {:.2f}'.format(MSE(self.y_train, self.pred_train)))\n",
    "        print('Simple Linear model, MSE test set: {:.2f}'.format(MSE(self.y_test,self.pred_test)))\n",
    "        "
   ]
  },
  {
   "cell_type": "code",
   "execution_count": null,
   "metadata": {
    "scrolled": true
   },
   "outputs": [],
   "source": [
    "lmWrapper = LinearRegressionWrapper(df = RelTimeCase.df, test_size = 0.3)\n",
    "#Fit model\n",
    "lmWrapper.fit()\n",
    "#Predictions\n",
    "lmWrapper.predict()\n",
    "#Print scores\n",
    "lmWrapper.scores()\n"
   ]
  },
  {
   "cell_type": "markdown",
   "metadata": {},
   "source": [
    "R^2 in both training and test is similar, indicating that there are no overfitting issues"
   ]
  },
  {
   "cell_type": "code",
   "execution_count": null,
   "metadata": {},
   "outputs": [],
   "source": [
    "def visualInspect(df, model):\n",
    "    #Visual representation, predictions with linear model for the 5-day period\n",
    "    df_5 = df.loc['2016-10-14':'2016-10-19',:]\n",
    "    X_5 = df_5.drop(columns = 'Radiation')\n",
    "    y_pred_5 = model.predictPartial(X_5)\n",
    "\n",
    "\n",
    "    fig, ax = plt.subplots(figsize = (23,5))    \n",
    "\n",
    "    ax.plot(df_5.Radiation,'o', markerfacecolor='w')\n",
    "    ax.plot(df_5.index, y_pred_5, linewidth = 1.5, color = 'black', label = 'Linear model prediction')\n",
    "    ax.set_ylabel('Radiation [W/m^2]', fontsize = 14)\n",
    "    ax.legend(fontsize = 14)\n",
    "\n",
    "    plt.show()\n",
    "    \n",
    "    return df_5, y_pred_5\n",
    "\n",
    "df_visual, y_pred_visual = visualInspect(RelTimeCase.df, lmWrapper)"
   ]
  },
  {
   "cell_type": "markdown",
   "metadata": {},
   "source": [
    "It seems that linear model is doing ok predicting radiation during day light as this was suggested by the relatively high R^2. Though, it is performing poorly during night hours."
   ]
  },
  {
   "cell_type": "markdown",
   "metadata": {},
   "source": [
    "### Residuals\n",
    "\n",
    "Let's have a look on how the residuals of simple model look like. \n",
    "\n",
    "$Residual = Observed - Predicted$\n"
   ]
  },
  {
   "cell_type": "code",
   "execution_count": null,
   "metadata": {
    "scrolled": false
   },
   "outputs": [],
   "source": [
    "def plot_residuals(observed , pred):\n",
    "    res = observed - pred\n",
    "    fig, ax = plt.subplots(figsize = (23,5))    \n",
    "    ax.plot(res)\n",
    "    plt.show()\n",
    "\n",
    "plot_residuals(df_visual.Radiation, y_pred_visual)"
   ]
  },
  {
   "cell_type": "markdown",
   "metadata": {},
   "source": [
    "From the residuals plot above it is clear that there some systematic patterns in the difference between the observed and predicted values. Ideally, residual plots should look fairly as a random cloud. This is another evidence that a simple linear model cannot describe the variance in our data particularly good."
   ]
  },
  {
   "cell_type": "markdown",
   "metadata": {},
   "source": [
    "## Tree-based models\n",
    "\n",
    "We will use two tree-based models *Random Forest* and *Gradient Boosting* which are capable of capturing non-linear relationships and they do not required featuring scaling.\n",
    "\n",
    "These models are ensamble models thus hyper-parameters tuning is required for better predictions.  Multiple models are trained as a way to identify the best performing set of hyper-parameters. We will use GridSearchCV.\n",
    "\n",
    "We will create the TreeBasedWrapper class."
   ]
  },
  {
   "cell_type": "code",
   "execution_count": null,
   "metadata": {},
   "outputs": [],
   "source": [
    "class TreeBasedWrapper:\n",
    "    def __init__(self, model, params, df, test_size, series_split):\n",
    "        self.model = model\n",
    "        self.params = params\n",
    "        self.df = df\n",
    "        self.X = self.df.drop(columns = 'Radiation')\n",
    "        self.y = self.df.Radiation\n",
    "        self.series_split = series_split\n",
    "        #Splitting data into train and test sets\n",
    "        self.X_train, self.X_test, self.y_train, self.y_test = train_test_split(self.X, self.y,\n",
    "                                                           test_size = test_size,\n",
    "                                                           random_state = 100)\n",
    "        self.mse_cv = None\n",
    "        self.tscv = TimeSeriesSplit(series_split)\n",
    "        self.grid_search = RandomizedSearchCV(estimator = self.model,\n",
    "                           param_distributions = self.params,\n",
    "                           cv = tscv,\n",
    "                           scoring = 'neg_mean_squared_error',\n",
    "                           verbose = 1,\n",
    "                           n_jobs = 4)\n",
    "        \n",
    "        self.best_model_params = None\n",
    "        self.best_model_ = None\n",
    "        \n",
    "        self.y_pred_train = None\n",
    "        self.y_pred_test = None\n",
    "     \n",
    "    def fit(self):\n",
    "        self.grid_search.fit(self.X_train, y_train)\n",
    "    \n",
    "    def best_parameters(self):\n",
    "        #Extracting best hyperparameters\n",
    "        self.best_model_params = self.grid_search.best_params_\n",
    "        print('Best hyperparameters: \\n', self.best_model_params)\n",
    "    \n",
    "    def best_model(self):\n",
    "        #Extracting best rf model\n",
    "        self.best_model_ = self.grid_search.best_estimator_\n",
    "    \n",
    "    def cross_validation(self):\n",
    "        self.mse_cv = -cross_val_score(self.best_model_, self.X_train, self.y_train,\n",
    "                            cv = self.tscv, \n",
    "                            scoring = 'neg_mean_squared_error',\n",
    "                            n_jobs = 4)\n",
    "    \n",
    "    def predict(self):\n",
    "        self.y_pred_train = self.best_model_.predict(self.X_train)\n",
    "        self.y_pred_test = self.best_model_.predict(self.X_test)\n",
    "    \n",
    "    def print_scores(self):\n",
    "        print(type(self.model).__name__)\n",
    "\n",
    "        #Computing the MSE in the traning set, test set, and cross-validation procedure\n",
    "\n",
    "        print('\\tCV MSE:{:.2f}'.format(self.mse_cv.mean()))\n",
    "        print('\\tTrain MSE:{:.2f}'.format(MSE(self.y_train, self.y_pred_train)))\n",
    "        print('\\tTest MSE:{:.2f}'.format(MSE(self.y_test, self.y_pred_test)))\n",
    "\n",
    "        #Computing the R^2 in the traning set and test set \n",
    "        print('\\tR^2 score training set:{:.2f}'.format(r2_score(self.y_train, self.y_pred_train)))\n",
    "        print('\\tR^2 score test set:{:.2f}'.format(r2_score(self.y_test, self.y_pred_test)))"
   ]
  },
  {
   "cell_type": "markdown",
   "metadata": {},
   "source": [
    "### Random Forest"
   ]
  },
  {
   "cell_type": "code",
   "execution_count": null,
   "metadata": {},
   "outputs": [],
   "source": [
    "#Define the grid of hyperparameters\n",
    "# 'n_estimators': [500, 600, 700],\n",
    "params_rf = {\n",
    "    'n_estimators': [500],\n",
    "    'max_depth': [5, 6, 7],\n",
    "    'min_samples_leaf': [0.075, 0.05, 0.025],\n",
    "    'max_features': ['log2', 'sqrt']   \n",
    "}\n",
    "rfWrapper = TreeBasedWrapper(RandomForestRegressor(random_state = 100), \n",
    "                                params = params_rf,\n",
    "                                df = RelTimeCase.df,\n",
    "                                test_size = 0.3, \n",
    "                                series_split = 3)\n"
   ]
  },
  {
   "cell_type": "code",
   "execution_count": null,
   "metadata": {},
   "outputs": [],
   "source": [
    "#Fit best model\n",
    "rfWrapper.fit()"
   ]
  },
  {
   "cell_type": "code",
   "execution_count": null,
   "metadata": {},
   "outputs": [],
   "source": [
    "#Find best parameters\n",
    "rfWrapper.best_parameters()"
   ]
  },
  {
   "cell_type": "code",
   "execution_count": null,
   "metadata": {},
   "outputs": [],
   "source": [
    "#Find best model\n",
    "rfWrapper.best_model()"
   ]
  },
  {
   "cell_type": "code",
   "execution_count": null,
   "metadata": {},
   "outputs": [],
   "source": [
    "#Check if there is overfitting through the use of Cross validation\n",
    "rfWrapper.cross_validation()"
   ]
  },
  {
   "cell_type": "code",
   "execution_count": null,
   "metadata": {},
   "outputs": [],
   "source": [
    "#Compute Random Forest predictions in the traning and test sets\n",
    "rfWrapper.predict()"
   ]
  },
  {
   "cell_type": "code",
   "execution_count": null,
   "metadata": {},
   "outputs": [],
   "source": [
    "rfWrapper.print_scores()"
   ]
  },
  {
   "cell_type": "markdown",
   "metadata": {},
   "source": [
    "### Gradient Boosting"
   ]
  },
  {
   "cell_type": "code",
   "execution_count": null,
   "metadata": {},
   "outputs": [],
   "source": [
    "#Define the grid of hyperparameters\n",
    "# 'n_estimators': [500, 600, 700],\n",
    "params_gb = {\n",
    "    'n_estimators': [500],\n",
    "    'max_depth': [5, 6, 7],\n",
    "    'min_samples_leaf': [0.075, 0.05, 0.025],\n",
    "    'max_features': ['log2', 'sqrt']   \n",
    "}\n",
    "gbWrapper = TreeBasedWrapper(GradientBoostingRegressor(random_state = 100), \n",
    "                                params = params_gb,\n",
    "                                df = RelTimeCase.df,\n",
    "                                test_size = 0.3, \n",
    "                                series_split = 3)\n"
   ]
  },
  {
   "cell_type": "code",
   "execution_count": null,
   "metadata": {},
   "outputs": [],
   "source": [
    "#Fit best model\n",
    "gbWrapper.fit()"
   ]
  },
  {
   "cell_type": "code",
   "execution_count": null,
   "metadata": {},
   "outputs": [],
   "source": [
    "#Find best parameters\n",
    "gbWrapper.best_parameters()"
   ]
  },
  {
   "cell_type": "code",
   "execution_count": null,
   "metadata": {},
   "outputs": [],
   "source": [
    "#Find best model\n",
    "gbWrapper.best_model()"
   ]
  },
  {
   "cell_type": "code",
   "execution_count": null,
   "metadata": {},
   "outputs": [],
   "source": [
    "#Check if there is overfitting through the use of Cross validation\n",
    "gbWrapper.cross_validation()"
   ]
  },
  {
   "cell_type": "code",
   "execution_count": null,
   "metadata": {},
   "outputs": [],
   "source": [
    "#Compute Random Forest predictions in the traning and test sets\n",
    "gbWrapper.predict()"
   ]
  },
  {
   "cell_type": "code",
   "execution_count": null,
   "metadata": {},
   "outputs": [],
   "source": [
    "gbWrapper.print_scores()"
   ]
  },
  {
   "cell_type": "markdown",
   "metadata": {},
   "source": [
    "## Feature Importance\n",
    "\n",
    "throw NotImplementedException"
   ]
  },
  {
   "cell_type": "code",
   "execution_count": null,
   "metadata": {},
   "outputs": [],
   "source": [
    "#Plotting feature importances for Random Forest and Gradient boosting\n",
    "\n",
    "def feature_importance_plots(model_1, model_2):\n",
    "    #Creating a pd.Series of feature importances\n",
    "    importances_rf = pd.Series(model_1.best_model_.feature_importances_, index = rfWrapper.X.columns)\n",
    "    importances_gb = pd.Series(model_2.best_model_.feature_importances_, index = gbWrapper.X.columns)\n",
    "\n",
    "    #Sorting importances\n",
    "    sorted_importances_rf = importances_rf.sort_values()\n",
    "    sorted_importances_gb = importances_gb.sort_values()\n",
    "\n",
    "    #Plotting sorted importances\n",
    "    fig, ax = plt.subplots(ncols = 2, figsize = (27,7))\n",
    "    sorted_importances_rf.plot(kind = 'barh', color = 'lightblue', ax = ax[0])\n",
    "    sorted_importances_gb.plot(kind = 'barh', color = 'lightblue', ax = ax[1])\n",
    "    ax[0].set_title('Random Forest Regressor')\n",
    "    ax[1].set_title('Gradient Boosting Regressor')\n",
    "    fig.suptitle('Feature importances in the two ML models', fontsize = 24)\n",
    "    plt.show()"
   ]
  },
  {
   "cell_type": "code",
   "execution_count": null,
   "metadata": {},
   "outputs": [],
   "source": [
    "feature_importance_plots(rfWrapper, gbWrapper)"
   ]
  },
  {
   "cell_type": "markdown",
   "metadata": {},
   "source": [
    "## Feature Engineering II\n",
    "\n",
    "Consider to limit the evaluations to the only hours of the day when the solar radiation is present (this allows to build a model that does not have to account for the night hours); narrow our dataset only to daylight hours since solar radiation is negligible during the night."
   ]
  },
  {
   "cell_type": "code",
   "execution_count": null,
   "metadata": {},
   "outputs": [],
   "source": [
    "SunUpCase = FeatureCreation('sun_is_up')\n",
    "SunUpCase.loadDataset(\"solar_radiation_dataset.csv\")\n",
    "#Again fixing dataset and setting correct time zone\n",
    "SunUpCase.fixTimeZone()\n",
    "SunUpCase.timeConversion()\n",
    "\n",
    "\n",
    "SunUpCase.createFeature()\n",
    "SunUpCase.dropColumns(['Data', 'Time', 'TimeSunRise', 'TimeSunSet', 'UNIXTime', \n",
    "                               'sunrise_time', 'sunset_time'])\n",
    "\n",
    "SunUpCase.df.head()\n"
   ]
  },
  {
   "cell_type": "markdown",
   "metadata": {},
   "source": [
    "We see that almost half of the observations performed during daylight.\n",
    "Correlation matrix of new dataset"
   ]
  },
  {
   "cell_type": "code",
   "execution_count": null,
   "metadata": {},
   "outputs": [],
   "source": [
    "corrMatrix(SunUpCase.df.corr())"
   ]
  },
  {
   "cell_type": "markdown",
   "metadata": {},
   "source": [
    "### Linear Model II\n",
    "\n",
    "We fit again a simple linear model to establish a basic performace point"
   ]
  },
  {
   "cell_type": "code",
   "execution_count": null,
   "metadata": {},
   "outputs": [],
   "source": [
    "lmWrapperII = LinearRegressionWrapper(df = SunUpCase.df, test_size = 0.3)\n",
    "#Fit model\n",
    "lmWrapperII.fit()\n",
    "#Predictions\n",
    "lmWrapperII.predict()\n",
    "#Print scores\n",
    "lmWrapperII.scores()"
   ]
  },
  {
   "cell_type": "markdown",
   "metadata": {},
   "source": [
    "### Random Forest II"
   ]
  },
  {
   "cell_type": "code",
   "execution_count": null,
   "metadata": {},
   "outputs": [],
   "source": [
    "#Define the grid of hyperparameters\n",
    "# 'n_estimators': [500, 600, 700],\n",
    "params_rf = {\n",
    "    'n_estimators': [500],\n",
    "    'max_depth': [5, 6, 7],\n",
    "    'min_samples_leaf': [0.075, 0.05, 0.025],\n",
    "    'max_features': ['log2', 'sqrt']   \n",
    "}\n",
    "rfWrapper = TreeBasedWrapper(RandomForestRegressor(random_state = 100), \n",
    "                                params = params_rf,\n",
    "                                df = SunUpCase.df,\n",
    "                                test_size = 0.3, \n",
    "                                series_split = 3)\n",
    "#Fit best model\n",
    "rfWrapper.fit()\n",
    "#Find best parameters\n",
    "rfWrapper.best_parameters()\n",
    "\n",
    "rfWrapper.best_model()\n",
    "\n",
    "rfWrapper.cross_validation()\n",
    "\n",
    "rfWrapper.predict()\n",
    "\n",
    "rfWrapper.print_scores()"
   ]
  },
  {
   "cell_type": "markdown",
   "metadata": {},
   "source": [
    "### Gradient Boosting II"
   ]
  },
  {
   "cell_type": "code",
   "execution_count": null,
   "metadata": {},
   "outputs": [],
   "source": [
    "#Define the grid of hyperparameters\n",
    "# 'n_estimators': [500, 600, 700],\n",
    "params_gb = {\n",
    "    'n_estimators': [500],\n",
    "    'max_depth': [5, 6, 7],\n",
    "    'min_samples_leaf': [0.075, 0.05, 0.025],\n",
    "    'max_features': ['log2', 'sqrt']   \n",
    "}\n",
    "gbWrapper = TreeBasedWrapper(GradientBoostingRegressor(random_state = 100), \n",
    "                                params = params_gb,\n",
    "                                df = SunUpCase.df,\n",
    "                                test_size = 0.3, \n",
    "                                series_split = 3)\n",
    "#Fit best model\n",
    "gbWrapper.fit()\n",
    "#Find best parameters\n",
    "gbWrapper.best_parameters()\n",
    "\n",
    "gbWrapper.best_model()\n",
    "\n",
    "gbWrapper.cross_validation()\n",
    "\n",
    "gbWrapper.predict()\n",
    "\n",
    "gbWrapper.print_scores()"
   ]
  },
  {
   "cell_type": "code",
   "execution_count": null,
   "metadata": {},
   "outputs": [],
   "source": [
    "feature_importance_plots(rfWrapper, gbWrapper)"
   ]
  },
  {
   "cell_type": "code",
   "execution_count": null,
   "metadata": {},
   "outputs": [],
   "source": []
  }
 ],
 "metadata": {
  "kernelspec": {
   "display_name": "Python 3",
   "language": "python",
   "name": "python3"
  },
  "language_info": {
   "codemirror_mode": {
    "name": "ipython",
    "version": 3
   },
   "file_extension": ".py",
   "mimetype": "text/x-python",
   "name": "python",
   "nbconvert_exporter": "python",
   "pygments_lexer": "ipython3",
   "version": "3.9.1"
  }
 },
 "nbformat": 4,
 "nbformat_minor": 2
}
